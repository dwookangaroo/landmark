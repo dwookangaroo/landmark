{
 "cells": [
  {
   "cell_type": "code",
   "execution_count": 1,
   "id": "09844004",
   "metadata": {},
   "outputs": [
    {
     "ename": "ImportError",
     "evalue": "cannot import name 'image_dataset_from_directory' from 'tensorflow.keras.preprocessing' (C:\\Users\\lemon\\anaconda3\\envs\\project-env\\lib\\site-packages\\tensorflow_core\\python\\keras\\api\\_v2\\keras\\preprocessing\\__init__.py)",
     "output_type": "error",
     "traceback": [
      "\u001b[1;31m---------------------------------------------------------------------------\u001b[0m",
      "\u001b[1;31mImportError\u001b[0m                               Traceback (most recent call last)",
      "\u001b[1;32m~\\AppData\\Local\\Temp/ipykernel_8832/3283770613.py\u001b[0m in \u001b[0;36m<module>\u001b[1;34m\u001b[0m\n\u001b[1;32m----> 1\u001b[1;33m \u001b[1;32mfrom\u001b[0m \u001b[0mtensorflow\u001b[0m\u001b[1;33m.\u001b[0m\u001b[0mkeras\u001b[0m\u001b[1;33m.\u001b[0m\u001b[0mpreprocessing\u001b[0m \u001b[1;32mimport\u001b[0m \u001b[0mimage_dataset_from_directory\u001b[0m\u001b[1;33m\u001b[0m\u001b[0m\n\u001b[0m",
      "\u001b[1;31mImportError\u001b[0m: cannot import name 'image_dataset_from_directory' from 'tensorflow.keras.preprocessing' (C:\\Users\\lemon\\anaconda3\\envs\\project-env\\lib\\site-packages\\tensorflow_core\\python\\keras\\api\\_v2\\keras\\preprocessing\\__init__.py)"
     ]
    }
   ],
   "source": [
    "# from tensorflow.keras.preprocessing import image_dataset_from_directory"
   ]
  },
  {
   "cell_type": "code",
   "execution_count": 47,
   "id": "910d2436",
   "metadata": {},
   "outputs": [
    {
     "name": "stdout",
     "output_type": "stream",
     "text": [
      "[name: \"/device:CPU:0\"\n",
      "device_type: \"CPU\"\n",
      "memory_limit: 268435456\n",
      "locality {\n",
      "}\n",
      "incarnation: 11361180427755505112\n",
      ", name: \"/device:GPU:0\"\n",
      "device_type: \"GPU\"\n",
      "memory_limit: 4881035264\n",
      "locality {\n",
      "  bus_id: 1\n",
      "  links {\n",
      "  }\n",
      "}\n",
      "incarnation: 3671860103084622087\n",
      "physical_device_desc: \"device: 0, name: NVIDIA GeForce GTX 1660 Ti, pci bus id: 0000:01:00.0, compute capability: 7.5\"\n",
      "]\n"
     ]
    }
   ],
   "source": [
    "from tensorflow.python.client import device_lib\n",
    "print(device_lib.list_local_devices())"
   ]
  },
  {
   "cell_type": "code",
   "execution_count": 44,
   "id": "60aa0b40",
   "metadata": {},
   "outputs": [
    {
     "data": {
      "text/plain": [
       "True"
      ]
     },
     "execution_count": 44,
     "metadata": {},
     "output_type": "execute_result"
    }
   ],
   "source": [
    "tf.test.is_gpu_available()"
   ]
  },
  {
   "cell_type": "code",
   "execution_count": 42,
   "id": "e07b9b71",
   "metadata": {},
   "outputs": [],
   "source": [
    "import cv2, sys\n",
    "import matplotlib.pyplot as plt\n",
    "import numpy as np\n",
    "import tensorflow as tf\n",
    "import glob\n",
    "import os\n",
    "from tqdm import tqdm\n",
    "import time\n",
    "from PIL import Image, ImageEnhance, ImageChops\n",
    "from tensorflow.keras.preprocessing.image import ImageDataGenerator, array_to_img, img_to_array, load_img\n",
    "from tensorflow.keras.utils import to_categorical"
   ]
  },
  {
   "cell_type": "code",
   "execution_count": 43,
   "id": "2eb01c75",
   "metadata": {},
   "outputs": [],
   "source": [
    "from tensorflow.keras.models import Sequential\n",
    "from tensorflow.keras.layers import Dense, Activation, Dropout, Flatten, Conv2D, MaxPooling2D\n",
    "from tensorflow.keras.preprocessing.image import ImageDataGenerator\n",
    "from tensorflow.keras import optimizers, initializers, regularizers, metrics\n",
    "from tensorflow.keras.models import Sequential, load_model\n",
    "from tensorflow.keras.layers import LeakyReLU\n"
   ]
  },
  {
   "cell_type": "code",
   "execution_count": 4,
   "id": "fbc55a4f",
   "metadata": {},
   "outputs": [],
   "source": [
    "from importlib import reload"
   ]
  },
  {
   "cell_type": "code",
   "execution_count": 5,
   "id": "b510487c",
   "metadata": {},
   "outputs": [],
   "source": [
    "np.random.seed(0)\n",
    "tf.random.set_seed(0)"
   ]
  },
  {
   "cell_type": "code",
   "execution_count": 6,
   "id": "93f6c8cb",
   "metadata": {},
   "outputs": [],
   "source": [
    "b_size=5"
   ]
  },
  {
   "cell_type": "code",
   "execution_count": 7,
   "id": "62aeb55d",
   "metadata": {},
   "outputs": [
    {
     "name": "stdout",
     "output_type": "stream",
     "text": [
      "Found 4800 images belonging to 8 classes.\n"
     ]
    }
   ],
   "source": [
    "train_datagen = ImageDataGenerator(rescale=1./255,\n",
    "                                   rotation_range=20,\n",
    "                                   width_shift_range=0.2,\n",
    "                                   height_shift_range=0.2,\n",
    "                                   shear_range=0.5,\n",
    "                                   zoom_range=0.5,\n",
    "                                   horizontal_flip=True,\n",
    "                                   fill_mode=\"nearest\")\n",
    "train_generator = train_datagen.flow_from_directory('D:/original_image/train/',target_size=(240,240),\n",
    "                                                    batch_size=b_size, class_mode='categorical')"
   ]
  },
  {
   "cell_type": "code",
   "execution_count": 9,
   "id": "b3522454",
   "metadata": {},
   "outputs": [
    {
     "name": "stdout",
     "output_type": "stream",
     "text": [
      "Found 2000 images belonging to 8 classes.\n"
     ]
    }
   ],
   "source": [
    "validation_datagen = ImageDataGenerator(rescale=1./255)\n",
    "validation_generator = validation_datagen.flow_from_directory('D:/original_image/val/',target_size=(240,240),\n",
    "                                                    batch_size=b_size, class_mode='categorical')"
   ]
  },
  {
   "cell_type": "code",
   "execution_count": 10,
   "id": "7aa77750",
   "metadata": {},
   "outputs": [
    {
     "name": "stdout",
     "output_type": "stream",
     "text": [
      "Found 1200 images belonging to 8 classes.\n"
     ]
    }
   ],
   "source": [
    "test_datagen = ImageDataGenerator(rescale=1./255)\n",
    "test_generator = test_datagen.flow_from_directory('D:/original_image/test/',target_size=(240,240),\n",
    "                                                    batch_size=b_size, class_mode='categorical')"
   ]
  },
  {
   "cell_type": "code",
   "execution_count": 11,
   "id": "8800a054",
   "metadata": {},
   "outputs": [
    {
     "data": {
      "text/plain": [
       "{'63building': 0,\n",
       " 'castle': 1,\n",
       " 'general': 2,\n",
       " 'indep_door': 3,\n",
       " 'judgement_castle': 4,\n",
       " 'lotte_tower': 5,\n",
       " 'namsan': 6,\n",
       " 'tapgol_park': 7}"
      ]
     },
     "execution_count": 11,
     "metadata": {},
     "output_type": "execute_result"
    }
   ],
   "source": [
    "test_generator.class_indices"
   ]
  },
  {
   "cell_type": "code",
   "execution_count": 20,
   "id": "36ae39d8",
   "metadata": {},
   "outputs": [],
   "source": [
    "model = Sequential()\n",
    "model.add(Conv2D(20, (3, 3), input_shape=(240,240,3)))\n",
    "model.add(Activation(LeakyReLU(alpha=0.01)))\n",
    "model.add(MaxPooling2D(pool_size=(2, 2)))\n",
    "\n",
    "model.add(Conv2D(20, (3, 3)))\n",
    "model.add(Activation(LeakyReLU(alpha=0.01)))\n",
    "model.add(MaxPooling2D(pool_size=(2, 2)))\n",
    "\n",
    "model.add(Conv2D(40, (3, 3)))\n",
    "model.add(Activation(LeakyReLU(alpha=0.01)))\n",
    "model.add(MaxPooling2D(pool_size=(2, 2)))\n",
    "\n",
    "model.add(Flatten())\n",
    "model.add(Dense(40))\n",
    "model.add(Activation(LeakyReLU(alpha=0.01)))\n",
    "model.add(Dropout(0.5))\n",
    "model.add(Dense(8))\n",
    "model.add(Activation('softmax'))"
   ]
  },
  {
   "cell_type": "code",
   "execution_count": 21,
   "id": "9e91e546",
   "metadata": {},
   "outputs": [
    {
     "name": "stdout",
     "output_type": "stream",
     "text": [
      "Model: \"sequential_1\"\n",
      "_________________________________________________________________\n",
      "Layer (type)                 Output Shape              Param #   \n",
      "=================================================================\n",
      "conv2d_3 (Conv2D)            (None, 238, 238, 20)      560       \n",
      "_________________________________________________________________\n",
      "activation_5 (Activation)    (None, 238, 238, 20)      0         \n",
      "_________________________________________________________________\n",
      "max_pooling2d_3 (MaxPooling2 (None, 119, 119, 20)      0         \n",
      "_________________________________________________________________\n",
      "conv2d_4 (Conv2D)            (None, 117, 117, 20)      3620      \n",
      "_________________________________________________________________\n",
      "activation_6 (Activation)    (None, 117, 117, 20)      0         \n",
      "_________________________________________________________________\n",
      "max_pooling2d_4 (MaxPooling2 (None, 58, 58, 20)        0         \n",
      "_________________________________________________________________\n",
      "conv2d_5 (Conv2D)            (None, 56, 56, 40)        7240      \n",
      "_________________________________________________________________\n",
      "activation_7 (Activation)    (None, 56, 56, 40)        0         \n",
      "_________________________________________________________________\n",
      "max_pooling2d_5 (MaxPooling2 (None, 28, 28, 40)        0         \n",
      "_________________________________________________________________\n",
      "flatten_1 (Flatten)          (None, 31360)             0         \n",
      "_________________________________________________________________\n",
      "dense_2 (Dense)              (None, 40)                1254440   \n",
      "_________________________________________________________________\n",
      "activation_8 (Activation)    (None, 40)                0         \n",
      "_________________________________________________________________\n",
      "dropout_1 (Dropout)          (None, 40)                0         \n",
      "_________________________________________________________________\n",
      "dense_3 (Dense)              (None, 8)                 328       \n",
      "_________________________________________________________________\n",
      "activation_9 (Activation)    (None, 8)                 0         \n",
      "=================================================================\n",
      "Total params: 1,266,188\n",
      "Trainable params: 1,266,188\n",
      "Non-trainable params: 0\n",
      "_________________________________________________________________\n"
     ]
    }
   ],
   "source": [
    "model.summary()"
   ]
  },
  {
   "cell_type": "code",
   "execution_count": 22,
   "id": "3067334e",
   "metadata": {},
   "outputs": [],
   "source": [
    "model.compile(loss='categorical_crossentropy',optimizer=optimizers.Adam(learning_rate=0.0002),\\\n",
    "              metrics=['accuracy'])"
   ]
  },
  {
   "cell_type": "code",
   "execution_count": 23,
   "id": "af3091f4",
   "metadata": {},
   "outputs": [],
   "source": [
    "steps_train = len(train_generator)\n",
    "steps_validation = len(validation_generator)\n",
    "setps_test = len(test_generator)"
   ]
  },
  {
   "cell_type": "code",
   "execution_count": 16,
   "id": "18820c5f",
   "metadata": {},
   "outputs": [
    {
     "data": {
      "text/plain": [
       "960"
      ]
     },
     "execution_count": 16,
     "metadata": {},
     "output_type": "execute_result"
    }
   ],
   "source": [
    "steps_train"
   ]
  },
  {
   "cell_type": "code",
   "execution_count": 17,
   "id": "c7033f59",
   "metadata": {},
   "outputs": [
    {
     "data": {
      "text/plain": [
       "240"
      ]
     },
     "execution_count": 17,
     "metadata": {},
     "output_type": "execute_result"
    }
   ],
   "source": [
    "setps_test"
   ]
  },
  {
   "cell_type": "code",
   "execution_count": 18,
   "id": "8f50dcc6",
   "metadata": {},
   "outputs": [
    {
     "data": {
      "text/plain": [
       "400"
      ]
     },
     "execution_count": 18,
     "metadata": {},
     "output_type": "execute_result"
    }
   ],
   "source": [
    "steps_validation"
   ]
  },
  {
   "cell_type": "code",
   "execution_count": 24,
   "id": "e0813f2a",
   "metadata": {},
   "outputs": [
    {
     "name": "stdout",
     "output_type": "stream",
     "text": [
      "Epoch 1/20\n",
      "960/960 [==============================] - 72s 75ms/step - loss: 1.2703 - accuracy: 0.5460 - val_loss: 0.4703 - val_accuracy: 0.8905\n",
      "Epoch 2/20\n",
      "960/960 [==============================] - 65s 68ms/step - loss: 0.8286 - accuracy: 0.7173 - val_loss: 0.2775 - val_accuracy: 0.9205\n",
      "Epoch 3/20\n",
      "960/960 [==============================] - 66s 69ms/step - loss: 0.6786 - accuracy: 0.7796 - val_loss: 0.2201 - val_accuracy: 0.9465\n",
      "Epoch 4/20\n",
      "960/960 [==============================] - 68s 71ms/step - loss: 0.5900 - accuracy: 0.8117 - val_loss: 0.1518 - val_accuracy: 0.9565\n",
      "Epoch 5/20\n",
      "960/960 [==============================] - 66s 68ms/step - loss: 0.5329 - accuracy: 0.8373 - val_loss: 0.1261 - val_accuracy: 0.9650\n",
      "Epoch 6/20\n",
      "960/960 [==============================] - 67s 69ms/step - loss: 0.4721 - accuracy: 0.8467 - val_loss: 0.1134 - val_accuracy: 0.9650\n",
      "Epoch 7/20\n",
      "960/960 [==============================] - 66s 69ms/step - loss: 0.4535 - accuracy: 0.8496 - val_loss: 0.1168 - val_accuracy: 0.9600\n",
      "Epoch 8/20\n",
      "960/960 [==============================] - 68s 71ms/step - loss: 0.4113 - accuracy: 0.8652 - val_loss: 0.1600 - val_accuracy: 0.9500\n",
      "Epoch 9/20\n",
      "960/960 [==============================] - 67s 70ms/step - loss: 0.3782 - accuracy: 0.8790 - val_loss: 0.1223 - val_accuracy: 0.9595\n",
      "Epoch 10/20\n",
      "960/960 [==============================] - 69s 72ms/step - loss: 0.3712 - accuracy: 0.8775 - val_loss: 0.1241 - val_accuracy: 0.9670\n",
      "Epoch 11/20\n",
      "960/960 [==============================] - 68s 71ms/step - loss: 0.3410 - accuracy: 0.8946 - val_loss: 0.0887 - val_accuracy: 0.9730\n",
      "Epoch 12/20\n",
      "960/960 [==============================] - 66s 69ms/step - loss: 0.3182 - accuracy: 0.8963 - val_loss: 0.0748 - val_accuracy: 0.9735\n",
      "Epoch 13/20\n",
      "960/960 [==============================] - 65s 68ms/step - loss: 0.2969 - accuracy: 0.9029 - val_loss: 0.0931 - val_accuracy: 0.9680\n",
      "Epoch 14/20\n",
      "960/960 [==============================] - 66s 69ms/step - loss: 0.3024 - accuracy: 0.9027 - val_loss: 0.0687 - val_accuracy: 0.9760\n",
      "Epoch 15/20\n",
      "960/960 [==============================] - 66s 69ms/step - loss: 0.2793 - accuracy: 0.9083 - val_loss: 0.0783 - val_accuracy: 0.9770\n",
      "Epoch 16/20\n",
      "960/960 [==============================] - 66s 68ms/step - loss: 0.2847 - accuracy: 0.9062 - val_loss: 0.0766 - val_accuracy: 0.9770\n",
      "Epoch 17/20\n",
      "960/960 [==============================] - 67s 69ms/step - loss: 0.2598 - accuracy: 0.9160 - val_loss: 0.0591 - val_accuracy: 0.9805\n",
      "Epoch 18/20\n",
      "960/960 [==============================] - 66s 69ms/step - loss: 0.2562 - accuracy: 0.9167 - val_loss: 0.0607 - val_accuracy: 0.9765\n",
      "Epoch 19/20\n",
      "960/960 [==============================] - 66s 68ms/step - loss: 0.2495 - accuracy: 0.9200 - val_loss: 0.0517 - val_accuracy: 0.9850\n",
      "Epoch 20/20\n",
      "960/960 [==============================] - 66s 69ms/step - loss: 0.2394 - accuracy: 0.9206 - val_loss: 0.0508 - val_accuracy: 0.9845\n"
     ]
    }
   ],
   "source": [
    "history = model.fit_generator(\n",
    "       train_generator,\n",
    "       steps_per_epoch=steps_train,\n",
    "       epochs=20,\n",
    "       validation_data=validation_generator,\n",
    "       validation_steps=steps_validation )"
   ]
  },
  {
   "cell_type": "code",
   "execution_count": 25,
   "id": "976f71d5",
   "metadata": {},
   "outputs": [
    {
     "data": {
      "image/png": "[encoded data removed]",
      "text/plain": [
       "<Figure size 432x288 with 1 Axes>"
      ]
     },
     "metadata": {
      "needs_background": "light"
     },
     "output_type": "display_data"
    }
   ],
   "source": [
    "acc = history.history['accuracy']\n",
    "val_acc = history.history['val_accuracy']\n",
    "y_vloss = history.history['val_loss']\n",
    "y_loss = history.history['loss']\n",
    "\n",
    "x_len = np.arange(len(y_loss))\n",
    "plt.plot(x_len, acc, marker='.', c='cornflowerblue', label='Trainset_acc')\n",
    "plt.plot(x_len, val_acc, marker='.', c='blue', label='validationset_acc')\n",
    "plt.plot(x_len, y_vloss, marker='.', c='red', label='validationse_loss')\n",
    "plt.plot(x_len, y_loss, marker='.', c='lightcoral', label='Trainset_loss')\n",
    "\n",
    "plt.legend(loc='upper left')\n",
    "plt.grid()\n",
    "plt.xlabel('epoch')\n",
    "plt.ylabel('loss/acc')\n",
    "plt.show()"
   ]
  },
  {
   "cell_type": "code",
   "execution_count": 48,
   "id": "00b0761a",
   "metadata": {},
   "outputs": [
    {
     "ename": "ImportError",
     "evalue": "`save_model` requires h5py.",
     "output_type": "error",
     "traceback": [
      "\u001b[1;31m---------------------------------------------------------------------------\u001b[0m",
      "\u001b[1;31mImportError\u001b[0m                               Traceback (most recent call last)",
      "\u001b[1;32m~\\AppData\\Local\\Temp/ipykernel_2600/4194921252.py\u001b[0m in \u001b[0;36m<module>\u001b[1;34m\u001b[0m\n\u001b[1;32m----> 1\u001b[1;33m \u001b[0mmodel\u001b[0m\u001b[1;33m.\u001b[0m\u001b[0msave\u001b[0m\u001b[1;33m(\u001b[0m\u001b[1;34m'model/jinsu_model.h5'\u001b[0m\u001b[1;33m)\u001b[0m\u001b[1;33m\u001b[0m\u001b[0m\n\u001b[0m",
      "\u001b[1;32m~\\anaconda3\\envs\\project-env\\lib\\site-packages\\tensorflow_core\\python\\keras\\engine\\network.py\u001b[0m in \u001b[0;36msave\u001b[1;34m(self, filepath, overwrite, include_optimizer, save_format, signatures, options)\u001b[0m\n\u001b[0;32m    973\u001b[0m     \"\"\"\n\u001b[0;32m    974\u001b[0m     saving.save_model(self, filepath, overwrite, include_optimizer, save_format,\n\u001b[1;32m--> 975\u001b[1;33m                       signatures, options)\n\u001b[0m\u001b[0;32m    976\u001b[0m \u001b[1;33m\u001b[0m\u001b[0m\n\u001b[0;32m    977\u001b[0m   \u001b[1;32mdef\u001b[0m \u001b[0msave_weights\u001b[0m\u001b[1;33m(\u001b[0m\u001b[0mself\u001b[0m\u001b[1;33m,\u001b[0m \u001b[0mfilepath\u001b[0m\u001b[1;33m,\u001b[0m \u001b[0moverwrite\u001b[0m\u001b[1;33m=\u001b[0m\u001b[1;32mTrue\u001b[0m\u001b[1;33m,\u001b[0m \u001b[0msave_format\u001b[0m\u001b[1;33m=\u001b[0m\u001b[1;32mNone\u001b[0m\u001b[1;33m)\u001b[0m\u001b[1;33m:\u001b[0m\u001b[1;33m\u001b[0m\u001b[0m\n",
      "\u001b[1;32m~\\anaconda3\\envs\\project-env\\lib\\site-packages\\tensorflow_core\\python\\keras\\saving\\save.py\u001b[0m in \u001b[0;36msave_model\u001b[1;34m(model, filepath, overwrite, include_optimizer, save_format, signatures, options)\u001b[0m\n\u001b[0;32m    110\u001b[0m           'or using `save_weights`.')\n\u001b[0;32m    111\u001b[0m     hdf5_format.save_model_to_hdf5(\n\u001b[1;32m--> 112\u001b[1;33m         model, filepath, overwrite, include_optimizer)\n\u001b[0m\u001b[0;32m    113\u001b[0m   \u001b[1;32melse\u001b[0m\u001b[1;33m:\u001b[0m\u001b[1;33m\u001b[0m\u001b[0m\n\u001b[0;32m    114\u001b[0m     saved_model_save.save(model, filepath, overwrite, include_optimizer,\n",
      "\u001b[1;32m~\\anaconda3\\envs\\project-env\\lib\\site-packages\\tensorflow_core\\python\\keras\\saving\\hdf5_format.py\u001b[0m in \u001b[0;36msave_model_to_hdf5\u001b[1;34m(model, filepath, overwrite, include_optimizer)\u001b[0m\n\u001b[0;32m     71\u001b[0m \u001b[1;33m\u001b[0m\u001b[0m\n\u001b[0;32m     72\u001b[0m   \u001b[1;32mif\u001b[0m \u001b[0mh5py\u001b[0m \u001b[1;32mis\u001b[0m \u001b[1;32mNone\u001b[0m\u001b[1;33m:\u001b[0m\u001b[1;33m\u001b[0m\u001b[0m\n\u001b[1;32m---> 73\u001b[1;33m     \u001b[1;32mraise\u001b[0m \u001b[0mImportError\u001b[0m\u001b[1;33m(\u001b[0m\u001b[1;34m'`save_model` requires h5py.'\u001b[0m\u001b[1;33m)\u001b[0m\u001b[1;33m\u001b[0m\u001b[0m\n\u001b[0m\u001b[0;32m     74\u001b[0m \u001b[1;33m\u001b[0m\u001b[0m\n\u001b[0;32m     75\u001b[0m   \u001b[1;31m# TODO(psv) Add warning when we save models that contain non-serializable\u001b[0m\u001b[1;33m\u001b[0m\u001b[1;33m\u001b[0m\u001b[0m\n",
      "\u001b[1;31mImportError\u001b[0m: `save_model` requires h5py."
     ]
    }
   ],
   "source": [
    "\n",
    "model.save('model/jinsu_model.h5')\n"
   ]
  },
  {
   "cell_type": "code",
   "execution_count": 22,
   "id": "90eb8db6",
   "metadata": {},
   "outputs": [],
   "source": [
    "# model.save('model/jinsu_model')"
   ]
  },
  {
   "cell_type": "code",
   "execution_count": 31,
   "id": "940b937a",
   "metadata": {},
   "outputs": [
    {
     "data": {
      "text/plain": [
       "{'63building': 0,\n",
       " 'castle': 1,\n",
       " 'general': 2,\n",
       " 'indep_door': 3,\n",
       " 'judgement_castle': 4,\n",
       " 'lotte_tower': 5,\n",
       " 'namsan': 6,\n",
       " 'tapgol_park': 7}"
      ]
     },
     "execution_count": 31,
     "metadata": {},
     "output_type": "execute_result"
    }
   ],
   "source": [
    "output = model.predict(test_generator, steps=setps_test)\n",
    "test_generator.class_indices\n",
    "\n"
   ]
  },
  {
   "cell_type": "code",
   "execution_count": 32,
   "id": "0accad31",
   "metadata": {},
   "outputs": [
    {
     "data": {
      "text/plain": [
       "array([[5.3806855e-07, 4.1020851e-07, 2.3435832e-05, ..., 3.4992226e-07,\n",
       "        1.8986916e-07, 9.9997139e-01],\n",
       "       [2.3924133e-12, 2.5085010e-15, 5.6045543e-11, ..., 2.2417691e-13,\n",
       "        9.7611554e-17, 5.6359853e-22],\n",
       "       [3.1635704e-04, 2.4758975e-12, 2.6116391e-05, ..., 4.2487791e-10,\n",
       "        2.1676966e-11, 2.7325245e-07],\n",
       "       ...,\n",
       "       [5.2720583e-07, 1.1839562e-06, 6.8392901e-04, ..., 2.2404101e-06,\n",
       "        7.8526746e-06, 9.9930251e-01],\n",
       "       [3.9101590e-04, 1.1159242e-08, 9.9885559e-01, ..., 3.6567534e-04,\n",
       "        2.8013301e-04, 1.2820574e-07],\n",
       "       [1.0000000e+00, 5.4124251e-16, 1.1341151e-11, ..., 8.3025803e-10,\n",
       "        1.3017657e-11, 1.7371412e-14]], dtype=float32)"
      ]
     },
     "execution_count": 32,
     "metadata": {},
     "output_type": "execute_result"
    }
   ],
   "source": [
    "output"
   ]
  },
  {
   "cell_type": "code",
   "execution_count": 33,
   "id": "f208f1e9",
   "metadata": {},
   "outputs": [
    {
     "name": "stdout",
     "output_type": "stream",
     "text": [
      "240/240 [==============================] - 3s 13ms/step - loss: 0.0794 - accuracy: 0.9783\n"
     ]
    },
    {
     "data": {
      "text/plain": [
       "0.97833335"
      ]
     },
     "execution_count": 33,
     "metadata": {},
     "output_type": "execute_result"
    }
   ],
   "source": [
    "loss, acc = model.evaluate(test_generator)\n",
    "acc"
   ]
  },
  {
   "cell_type": "code",
   "execution_count": 26,
   "id": "ed3de246",
   "metadata": {},
   "outputs": [],
   "source": [
    "# caltech_dir = \"D:/deeplearning/mini_test\"\n",
    "# image_w = 300\n",
    "# image_h = 300\n",
    "# pixels = image_h * image_w * 3\n",
    "# X = []\n",
    "# filenames = []\n",
    "# files = glob.glob(caltech_dir+\"/*.*\")\n",
    "# for i, f in enumerate(files):\n",
    "#     img = Image.open(f)\n",
    "#     img = img.convert(\"RGB\")\n",
    "#     img = img.resize((image_w, image_h))\n",
    "#     data = np.asarray(img)\n",
    "#     filenames.append(f)\n",
    "#     X.append(data)\n",
    "# X = np.array(X)\n"
   ]
  },
  {
   "cell_type": "code",
   "execution_count": 27,
   "id": "ac0fb7a0",
   "metadata": {},
   "outputs": [],
   "source": [
    "# model = load_model('./model_sample.h5')\n",
    "# prediction = model.predict(X)\n",
    "# np.set_printoptions(formatter={'float': lambda x: \"{0:0.3f}\".format(x)})\n",
    "# cnt = 0\n",
    "# #이 비교는 그냥 파일들이 있으면 해당 파일과 비교. 카테고리와 함께 비교해서 진행하는 것은 _4 파일.\n",
    "# for i in prediction:\n",
    "#     pre_ans = i.argmax()  # 예측 레이블\n",
    "#     print(i)\n",
    "#     print(pre_ans)\n",
    "#     pre_ans_str = ''\n",
    "#     if pre_ans == 0: pre_ans_str = \"Geunjeongjeon_Hall\"\n",
    "#     elif pre_ans == 1: pre_ans_str = \"Gyeonghoeru\"\n",
    "#     else: pre_ans_str = \"없음\"\n",
    "#     if i[0] >= 0.8 : print(\"해당 \"+filenames[cnt].split(\"\\\\\")[1]+\"이미지는 \"+pre_ans_str+\"로 추정됩니다.\")\n",
    "#     if i[1] >= 0.8: print(\"해당 \"+filenames[cnt].split(\"\\\\\")[1]+\"이미지는 \"+pre_ans_str+\"으로 추정됩니다.\")\n",
    "#     cnt += 1\n",
    "#     # print(i.argmax()) #얘가 레이블 [1. 0. 0.] 이런식으로 되어 있는 것을 숫자로 바꿔주는 것.\n",
    "#     # 즉 얘랑, 나중에 카테고리 데이터 불러와서 카테고리랑 비교를 해서 같으면 맞는거고, 아니면 틀린거로 취급하면 된다.\n",
    "#     # 이걸 한 것은 _4.py에."
   ]
  }
 ],
 "metadata": {
  "kernelspec": {
   "display_name": "Python 3 (ipykernel)",
   "language": "python",
   "name": "python3"
  },
  "language_info": {
   "codemirror_mode": {
    "name": "ipython",
    "version": 3
   },
   "file_extension": ".py",
   "mimetype": "text/x-python",
   "name": "python",
   "nbconvert_exporter": "python",
   "pygments_lexer": "ipython3",
   "version": "3.7.0"
  }
 },
 "nbformat": 4,
 "nbformat_minor": 5
}
